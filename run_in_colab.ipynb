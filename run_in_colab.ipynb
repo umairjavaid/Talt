{
 "cells": [
  {
   "cell_type": "markdown",
   "id": "315515e7",
   "metadata": {},
   "source": [
    "# TALT Experiments in Google Colab\n",
    "\n",
    "This notebook sets up and runs TALT experiments in the Google Colab environment."
   ]
  },
  {
   "cell_type": "markdown",
   "id": "1fd8353f",
   "metadata": {},
   "source": [
    "## Step 1: Clone the repository"
   ]
  },
  {
   "cell_type": "code",
   "execution_count": null,
   "id": "7387ff2b",
   "metadata": {},
   "outputs": [],
   "source": [
    "# Check if repository is already cloned\n",
    "import os\n",
    "if not os.path.exists('/content/Talt'):\n",
    "    # Clone the repository\n",
    "    !git clone https://github.com/yourusername/Talt.git\n",
    "\n",
    "# Change to the repository directory\n",
    "%cd /content/Talt"
   ]
  },
  {
   "cell_type": "markdown",
   "id": "d9ba8e82",
   "metadata": {},
   "source": [
    "## Step 2: Setup the environment"
   ]
  },
  {
   "cell_type": "code",
   "execution_count": null,
   "id": "d606e34a",
   "metadata": {},
   "outputs": [],
   "source": [
    "# Install required packages and setup the environment\n",
    "!python setup_colab.py"
   ]
  },
  {
   "cell_type": "markdown",
   "id": "4266d06e",
   "metadata": {},
   "source": [
    "## Step 3: Verify the directory structure"
   ]
  },
  {
   "cell_type": "code",
   "execution_count": null,
   "id": "3b17f835",
   "metadata": {},
   "outputs": [],
   "source": [
    "# Check that the directory structure is correct\n",
    "!ls -la\n",
    "!ls -la talt_evaluation\n",
    "\n",
    "# Create necessary module directories if they don't exist\n",
    "!mkdir -p talt_evaluation/datasets\n",
    "!mkdir -p talt_evaluation/architectures\n",
    "!mkdir -p talt_evaluation/hyperparameter_tuning\n",
    "!mkdir -p talt_evaluation/visualization\n",
    "!mkdir -p talt_evaluation/experiments\n",
    "!mkdir -p talt_evaluation/batch_configs\n",
    "\n",
    "# Create __init__.py files\n",
    "!touch talt_evaluation/__init__.py\n",
    "!touch talt_evaluation/datasets/__init__.py\n",
    "!touch talt_evaluation/architectures/__init__.py\n",
    "!touch talt_evaluation/hyperparameter_tuning/__init__.py\n",
    "!touch talt_evaluation/visualization/__init__.py\n",
    "!touch talt_evaluation/experiments/__init__.py"
   ]
  },
  {
   "cell_type": "markdown",
   "id": "6662e95d",
   "metadata": {},
   "source": [
    "## Step 4: Run experiments\n",
    "\n",
    "You can choose one of the following methods to run experiments:"
   ]
  },
  {
   "cell_type": "markdown",
   "id": "387f423c",
   "metadata": {},
   "source": [
    "### Method 1: Using run_colab.py"
   ]
  },
  {
   "cell_type": "code",
   "execution_count": null,
   "id": "466b0c6e",
   "metadata": {},
   "outputs": [],
   "source": [
    "# Run experiments using the Python wrapper\n",
    "!python run_colab.py --config talt_evaluation/batch_configs/cnn_comparison.json --output-dir ./results"
   ]
  },
  {
   "cell_type": "markdown",
   "id": "224a6c92",
   "metadata": {},
   "source": [
    "### Method 2: Using run_colab.sh"
   ]
  },
  {
   "cell_type": "code",
   "execution_count": null,
   "id": "d707450d",
   "metadata": {},
   "outputs": [],
   "source": [
    "# Make the shell script executable\n",
    "!chmod +x run_colab.sh\n",
    "\n",
    "# Run experiments using the shell script\n",
    "!./run_colab.sh talt_evaluation/batch_configs/cnn_comparison.json"
   ]
  },
  {
   "cell_type": "markdown",
   "id": "de909912",
   "metadata": {},
   "source": [
    "### Method 3: Direct command"
   ]
  },
  {
   "cell_type": "code",
   "execution_count": null,
   "id": "d4297e6c",
   "metadata": {},
   "outputs": [],
   "source": [
    "# First ensure the environment is set up\n",
    "import sys\n",
    "sys.path.insert(0, '/content/Talt')\n",
    "\n",
    "# Run the experiments directly\n",
    "!python talt_evaluation/run_batch.py \\\n",
    "    --config talt_evaluation/batch_configs/cnn_comparison.json \\\n",
    "    --output-dir ./results"
   ]
  },
  {
   "cell_type": "markdown",
   "id": "ded54533",
   "metadata": {},
   "source": [
    "## Step 5: Check results"
   ]
  },
  {
   "cell_type": "code",
   "execution_count": null,
   "id": "65eacc60",
   "metadata": {},
   "outputs": [],
   "source": [
    "# List results directories\n",
    "!ls -la results\n",
    "\n",
    "# Get the most recent results directory\n",
    "import glob\n",
    "import os\n",
    "\n",
    "results_dirs = glob.glob('results/batch_*')\n",
    "if results_dirs:\n",
    "    latest_dir = max(results_dirs, key=os.path.getctime)\n",
    "    print(f\"Latest results directory: {latest_dir}\")\n",
    "    \n",
    "    # Check the batch summary\n",
    "    summary_path = os.path.join(latest_dir, 'batch_summary.json')\n",
    "    if os.path.exists(summary_path):\n",
    "        !cat {summary_path}\n",
    "    else:\n",
    "        print(f\"No batch summary found in {latest_dir}\")\n",
    "else:\n",
    "    print(\"No results directories found\")"
   ]
  }
 ],
 "metadata": {
  "language_info": {
   "name": "python"
  }
 },
 "nbformat": 4,
 "nbformat_minor": 5
}
