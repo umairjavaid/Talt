{
 "cells": [
  {
   "cell_type": "markdown",
   "id": "b63bc185",
   "metadata": {},
   "source": [
    "# Running TALT Experiments in Google Colab\n",
    "\n",
    "This notebook helps you run TALT experiments in Google Colab."
   ]
  },
  {
   "cell_type": "markdown",
   "id": "600d99f0",
   "metadata": {},
   "source": [
    "## 1. Clone the repository"
   ]
  },
  {
   "cell_type": "code",
   "execution_count": null,
   "id": "2fd6c1a1",
   "metadata": {},
   "outputs": [],
   "source": [
    "!git clone https://github.com/yourusername/Talt.git\n",
    "%cd Talt"
   ]
  },
  {
   "cell_type": "markdown",
   "id": "cf2c8ef5",
   "metadata": {},
   "source": [
    "## 2. Set up the environment"
   ]
  },
  {
   "cell_type": "code",
   "execution_count": null,
   "id": "8a13fd30",
   "metadata": {},
   "outputs": [],
   "source": [
    "!python setup_colab.py"
   ]
  },
  {
   "cell_type": "markdown",
   "id": "fcc49d0a",
   "metadata": {},
   "source": [
    "## 3. Run a batch of experiments"
   ]
  },
  {
   "cell_type": "code",
   "execution_count": null,
   "id": "17975647",
   "metadata": {},
   "outputs": [],
   "source": [
    "!python talt_evaluation/run_batch.py \\\n",
    "    --config talt_evaluation/batch_configs/cnn_comparison.json \\\n",
    "    --output-dir ./results"
   ]
  },
  {
   "cell_type": "markdown",
   "id": "44627cfc",
   "metadata": {},
   "source": [
    "## 4. Run a single experiment (optional)"
   ]
  },
  {
   "cell_type": "code",
   "execution_count": null,
   "id": "a645ddc0",
   "metadata": {},
   "outputs": [],
   "source": [
    "!python talt_evaluation/run_experiment.py \\\n",
    "    --name resnet18_cifar10_talt \\\n",
    "    --architecture resnet18 \\\n",
    "    --dataset cifar10 \\\n",
    "    --optimizer talt \\\n",
    "    --epochs 5 \\\n",
    "    --batch-size 128 \\\n",
    "    --lr 0.1 \\\n",
    "    --mixed-precision \\\n",
    "    --output-dir ./results"
   ]
  },
  {
   "cell_type": "markdown",
   "id": "e0d24650",
   "metadata": {},
   "source": [
    "## 5. Check results\n",
    "\n",
    "The results will be saved in the `results` directory. You can visualize the training progress using the plots generated in the `visualizations` subdirectory."
   ]
  }
 ],
 "metadata": {
  "language_info": {
   "name": "python"
  }
 },
 "nbformat": 4,
 "nbformat_minor": 5
}
